{
 "cells": [
  {
   "cell_type": "code",
   "execution_count": 1,
   "metadata": {},
   "outputs": [],
   "source": [
    "## 19 - June - 2023"
   ]
  },
  {
   "cell_type": "code",
   "execution_count": 2,
   "metadata": {},
   "outputs": [],
   "source": [
    "import pandas as pd"
   ]
  },
  {
   "cell_type": "code",
   "execution_count": 3,
   "metadata": {},
   "outputs": [],
   "source": [
    "AL_cy_young_voting_DataFrame = pd.read_csv('../Data/AL_cy_young_voting.csv')\n",
    "NL_cy_young_voting_DataFrame = pd.read_csv('../Data/NL_cy_young_voting.csv')\n",
    "\n",
    "AL_pitching_stats_DataFrame = pd.read_csv('../Data/AL_pitching_stats.csv')\n",
    "NL_pitching_stats_DataFrame = pd.read_csv('../Data/NL_pitching_stats.csv')\n",
    "\n",
    "AL_standings_DataFrame = pd.read_csv('../Data/AL_cy_young_voting.csv')\n",
    "NL_standings_DataFrame = pd.read_csv('../Data/NL_cy_young_voting.csv')"
   ]
  },
  {
   "cell_type": "code",
   "execution_count": 4,
   "metadata": {},
   "outputs": [
    {
     "name": "stdout",
     "output_type": "stream",
     "text": [
      "Rank\n",
      "Vote Pts\n",
      "1st Place\n",
      "Share\n",
      "WAR\n"
     ]
    }
   ],
   "source": [
    "for column in AL_cy_young_voting_DataFrame.columns:\n",
    "    if column not in AL_pitching_stats_DataFrame.columns:\n",
    "        print(column)"
   ]
  }
 ],
 "metadata": {
  "kernelspec": {
   "display_name": "Python 3",
   "language": "python",
   "name": "python3"
  },
  "language_info": {
   "codemirror_mode": {
    "name": "ipython",
    "version": 3
   },
   "file_extension": ".py",
   "mimetype": "text/x-python",
   "name": "python",
   "nbconvert_exporter": "python",
   "pygments_lexer": "ipython3",
   "version": "3.8.5"
  }
 },
 "nbformat": 4,
 "nbformat_minor": 4
}
